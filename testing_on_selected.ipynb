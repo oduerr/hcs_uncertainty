{
 "cells": [
  {
   "cell_type": "markdown",
   "metadata": {
    "colab_type": "text",
    "id": "rJ3wGfW0WjhP"
   },
   "source": [
    "## Loading and extraction of the dataset"
   ]
  },
  {
   "cell_type": "code",
   "execution_count": 1,
   "metadata": {},
   "outputs": [],
   "source": [
    "run_id = 14 #two classes mito and cyto removed\n",
    "run_id = 13 #Just 3 classes\n",
    "run_id = 15\n",
    "run_id = 6  #Just mito"
   ]
  },
  {
   "cell_type": "code",
   "execution_count": 2,
   "metadata": {
    "colab": {
     "autoexec": {
      "startup": false,
      "wait_interval": 0
     },
     "base_uri": "https://localhost:8080/",
     "height": 170
    },
    "colab_type": "code",
    "executionInfo": {
     "elapsed": 1748,
     "status": "ok",
     "timestamp": 1523557347785,
     "user": {
      "displayName": "Oliver Duerr",
      "photoUrl": "https://lh3.googleusercontent.com/a/default-user=s128",
      "userId": "115023668464573925389"
     },
     "user_tz": -120
    },
    "id": "cs5WLvYMScME",
    "outputId": "62ed3bff-3ca6-4806-d4b0-5038307ce18c"
   },
   "outputs": [
    {
     "name": "stdout",
     "output_type": "stream",
     "text": [
      "total 3.2G\r\n",
      "-rw-r--r-- 1 root root 153M Jan  7  2017 Chong_test_set.hdf5\r\n",
      "-rw-r--r-- 1 root root 738M Jan  7  2017 Chong_train_set.hdf5\r\n",
      "-rw-r--r-- 1 root root 152M Jan  7  2017 Chong_valid_set.hdf5\r\n",
      "-rw-r--r-- 1 root root  740 Jan  8  2017 README.TXT\r\n",
      "-rw-r--r-- 1 root root  46M Jan  8  2017 Schuldiner_test_set.hdf5\r\n",
      "-rw-r--r-- 1 root root 405M Jan  8  2017 Schuldiner_train_set.hdf5\r\n",
      "-rw-r--r-- 1 root root 172M Jan  8  2017 wt2017_test_set.hdf5\r\n",
      "-rw-r--r-- 1 root root 1.5G Jan  8  2017 wt2017_train_set.hdf5\r\n"
     ]
    }
   ],
   "source": [
    "#Taken from https://github.com/okraus/DeepLoc/blob/master/download_datasets.sh\n",
    "import os\n",
    "if not (os.path.exists('datasets/Chong_train_set.hdf5')):\n",
    "    !curl http://spidey.ccbr.utoronto.ca/~okraus/DeepLoc_full_datasets.zip --output DeepLoc_full_datasets.zip\n",
    "    !unzip DeepLoc_full_datasets.zip\n",
    "    !rm DeepLoc_full_datasets.zip\n",
    "!ls -lh datasets"
   ]
  },
  {
   "cell_type": "code",
   "execution_count": 3,
   "metadata": {
    "colab": {
     "autoexec": {
      "startup": false,
      "wait_interval": 0
     },
     "base_uri": "https://localhost:8080/",
     "height": 357
    },
    "colab_type": "code",
    "executionInfo": {
     "elapsed": 3206,
     "status": "ok",
     "timestamp": 1523529799579,
     "user": {
      "displayName": "Oliver Duerr",
      "photoUrl": "https://lh3.googleusercontent.com/a/default-user=s128",
      "userId": "115023668464573925389"
     },
     "user_tz": -120
    },
    "id": "FkNxeei5Yu9x",
    "outputId": "64eab8d4-bac0-4be8-870e-2d0d2b7ff283"
   },
   "outputs": [
    {
     "name": "stderr",
     "output_type": "stream",
     "text": [
      "/usr/local/lib/python3.5/dist-packages/h5py/__init__.py:36: FutureWarning: Conversion of the second argument of issubdtype from `float` to `np.floating` is deprecated. In future, it will be treated as `np.float64 == np.dtype(float).type`.\n",
      "  from ._conv import register_converters as _register_converters\n"
     ]
    },
    {
     "name": "stdout",
     "output_type": "stream",
     "text": [
      "['Index1', 'Info1', 'data1', 'label_names']\n"
     ]
    },
    {
     "data": {
      "text/plain": [
       "Counter({(0, b'ACTIN'): 738,\n",
       "         (1, b'BUDNECK'): 535,\n",
       "         (2, b'BUDTIP'): 336,\n",
       "         (3, b'CELLPERIPHERY'): 423,\n",
       "         (4, b'CYTOPLASM'): 1500,\n",
       "         (5, b'ENDOSOME'): 1500,\n",
       "         (6, b'ER'): 1500,\n",
       "         (7, b'GOLGI'): 1500,\n",
       "         (8, b'MITOCHONDRIA'): 1500,\n",
       "         (9, b'NUCLEARPERIPHERY'): 1500,\n",
       "         (10, b'NUCLEI'): 1500,\n",
       "         (11, b'NUCLEOLUS'): 1500,\n",
       "         (12, b'PEROXISOME'): 988,\n",
       "         (13, b'SPINDLE'): 185,\n",
       "         (14, b'SPINDLEPOLE'): 1500,\n",
       "         (15, b'VACUOLARMEMBRANE'): 1500,\n",
       "         (16, b'VACUOLE'): 1500,\n",
       "         (17, b'DEAD'): 749,\n",
       "         (18, b'GHOST'): 1428})"
      ]
     },
     "execution_count": 3,
     "metadata": {},
     "output_type": "execute_result"
    }
   ],
   "source": [
    "import numpy as np\n",
    "import h5py\n",
    "fn1 = 'datasets/Chong_train_set.hdf5'\n",
    "d1 = h5py.File(fn1)\n",
    "print(list(d1.keys()))\n",
    "l = [d for d in zip(np.argmax(d1['Index1'],axis=1), d1['label_names'])]\n",
    "from collections import Counter\n",
    "Counter(l)"
   ]
  },
  {
   "cell_type": "code",
   "execution_count": 4,
   "metadata": {
    "colab": {
     "autoexec": {
      "startup": false,
      "wait_interval": 0
     }
    },
    "colab_type": "code",
    "id": "DWdmdqf0Tr7t"
   },
   "outputs": [],
   "source": [
    "# run_desc = 'kraus1_full_no_batch_no_myto'\n",
    "# myto_idx = 8\n",
    "# num_classes = 18"
   ]
  },
  {
   "cell_type": "code",
   "execution_count": 5,
   "metadata": {
    "colab": {
     "autoexec": {
      "startup": false,
      "wait_interval": 0
     },
     "base_uri": "https://localhost:8080/",
     "height": 105
    },
    "colab_type": "code",
    "executionInfo": {
     "elapsed": 8571,
     "status": "ok",
     "timestamp": 1523529817592,
     "user": {
      "displayName": "Oliver Duerr",
      "photoUrl": "https://lh3.googleusercontent.com/a/default-user=s128",
      "userId": "115023668464573925389"
     },
     "user_tz": -120
    },
    "id": "3Uy0q9afSpxX",
    "outputId": "e4a3ebe9-4984-4b2c-8ded-1c68d1f7c02a"
   },
   "outputs": [
    {
     "name": "stderr",
     "output_type": "stream",
     "text": [
      "Using TensorFlow backend.\n",
      "/usr/local/lib/python3.5/dist-packages/sklearn/cross_validation.py:41: DeprecationWarning: This module was deprecated in version 0.18 in favor of the model_selection module into which all the refactored classes and functions are moved. Also note that the interface of the new CV iterators are different from that of this module. This module will be removed in 0.20.\n",
      "  \"This module will be removed in 0.20.\", DeprecationWarning)\n"
     ]
    },
    {
     "data": {
      "text/plain": [
       "('1.6.0', '2.1.5', '1.14.1', '2.7.1')"
      ]
     },
     "execution_count": 5,
     "metadata": {},
     "output_type": "execute_result"
    }
   ],
   "source": [
    "import tensorflow as tf\n",
    "import keras\n",
    "\n",
    "\n",
    "from keras.models import Sequential, Model, load_model\n",
    "from keras.layers import Input, Dense, Flatten, Activation\n",
    "from keras.layers import Lambda, Dropout, BatchNormalization, Convolution2D, MaxPooling2D\n",
    "from keras import initializers\n",
    "from keras.optimizers import Adam, RMSprop\n",
    "from keras.utils import to_categorical\n",
    "from keras.callbacks import TensorBoard, ModelCheckpoint\n",
    "from keras import backend as K\n",
    "from keras.applications.vgg16 import VGG16, preprocess_input\n",
    "\n",
    "from keras.preprocessing.image import ImageDataGenerator\n",
    "# from tensorflow.contrib.keras.python.keras.layers.merge import Concatenate\n",
    "# from tensorflow.contrib.keras.python.keras.layers import Lambda, RepeatVector\n",
    "\n",
    "import h5py\n",
    "import numpy as np\n",
    "from sklearn.cross_validation import KFold\n",
    "from sklearn.cross_validation import StratifiedKFold\n",
    "from sklearn.preprocessing import OneHotEncoder\n",
    "import matplotlib.pyplot as plt\n",
    "import matplotlib.image as imgplot\n",
    "import time\n",
    "%matplotlib inline\n",
    "#('1.6.0', '2.1.5', '1.14.2', '2.7.1')\n",
    "tf.__version__,keras.__version__, np.__version__, h5py.__version__"
   ]
  },
  {
   "cell_type": "code",
   "execution_count": 6,
   "metadata": {
    "colab": {
     "autoexec": {
      "startup": false,
      "wait_interval": 0
     }
    },
    "colab_type": "code",
    "id": "j_koiWw9TcSs"
   },
   "outputs": [],
   "source": [
    "def flatBatch2Tensor(batchData,imSize,channels):\n",
    "    splitByChannel = [batchData[:,(chan*imSize**2):((chan+1)*imSize**2)].reshape((-1,imSize,imSize,1)) \\\n",
    "                      for chan in range(channels)]\n",
    "    tensorBatchData = np.concatenate(splitByChannel,3)\n",
    "    return tensorBatchData\n",
    "\n",
    "def load_kraus():\n",
    "       \n",
    "    #fn1 = 'datasets/wt2017_train_set.hdf5'\n",
    "    #fn2 = 'datasets/wt2017_test_set.hdf5'\n",
    "    \n",
    "    fn1 = 'datasets/Chong_train_set.hdf5'\n",
    "    fn2 = 'datasets/Chong_test_set.hdf5'\n",
    "    fn3 = 'datasets/Chong_valid_set.hdf5'\n",
    "    d1 = h5py.File(fn1)\n",
    "    d2 = h5py.File(fn2)\n",
    "    d3 = h5py.File(fn3)\n",
    "    \n",
    "    X_train = flatBatch2Tensor(d1['data1'][:], 64, 2)\n",
    "    X_test = flatBatch2Tensor(d2['data1'][:], 64, 2)\n",
    "    X_valid = flatBatch2Tensor(d3['data1'][:], 64, 2)\n",
    "    y_train = d1['Index1'][:]\n",
    "    y_test = d2['Index1'][:]\n",
    "    y_valid = d3['Index1'][:]\n",
    "    \n",
    "    # We bring the data into the range [0,1] and clamp it due to heavy outliers\n",
    "    X_train = np.clip(X_train,0,100)/100\n",
    "    X_test = np.clip(X_test,0,100)/100\n",
    "    X_valid = np.clip(X_valid,0,100)/100\n",
    "    \n",
    "    # For sparse labels\n",
    "    #y_train = np.ndarray.astype(np.argmax(d1['Index1'],axis=1),'int32')\n",
    "    #y_test = np.ndarray.astype(np.argmax(d2['Index1'],axis=1),'int32')\n",
    "        \n",
    "    print(\"X_train type {} dtype {} shape {}\".format(type(X_train), X_train.dtype,np.shape(X_train)))\n",
    "    print(\"X_train min {}, max {} mean {}\".format(np.min(X_train), np.max(X_train), np.mean(X_train)))\n",
    "    print(\"Y_train shape {} Y_test shape{} Y_validation shape{} \".format(np.shape(y_train), np.shape(y_test), np.shape(y_valid)))\n",
    "    return X_train, y_train, X_test, y_test, X_valid, y_valid"
   ]
  },
  {
   "cell_type": "code",
   "execution_count": 7,
   "metadata": {
    "colab": {
     "autoexec": {
      "startup": false,
      "wait_interval": 0
     },
     "base_uri": "https://localhost:8080/",
     "height": 68
    },
    "colab_type": "code",
    "executionInfo": {
     "elapsed": 2893,
     "status": "ok",
     "timestamp": 1523529828694,
     "user": {
      "displayName": "Oliver Duerr",
      "photoUrl": "https://lh3.googleusercontent.com/a/default-user=s128",
      "userId": "115023668464573925389"
     },
     "user_tz": -120
    },
    "id": "d-2guLRFtLGl",
    "outputId": "8f257e5d-1d36-4a57-97f0-46768489c740"
   },
   "outputs": [
    {
     "name": "stdout",
     "output_type": "stream",
     "text": [
      "X_train type <class 'numpy.ndarray'> dtype float32 shape (21882, 64, 64, 2)\n",
      "X_train min 0.0, max 1.0 mean 0.17277522385120392\n",
      "Y_train shape (21882, 19) Y_test shape(4516, 19) Y_validation shape(4491, 19) \n"
     ]
    }
   ],
   "source": [
    "import h5py\n",
    "import numpy as np\n",
    "X_train, Y_train, X_test, Y_test, X_valid, Y_valid = load_kraus()"
   ]
  },
  {
   "cell_type": "code",
   "execution_count": 8,
   "metadata": {
    "colab": {
     "autoexec": {
      "startup": false,
      "wait_interval": 0
     },
     "base_uri": "https://localhost:8080/",
     "height": 34
    },
    "colab_type": "code",
    "executionInfo": {
     "elapsed": 534,
     "status": "ok",
     "timestamp": 1523529929616,
     "user": {
      "displayName": "Oliver Duerr",
      "photoUrl": "https://lh3.googleusercontent.com/a/default-user=s128",
      "userId": "115023668464573925389"
     },
     "user_tz": -120
    },
    "id": "e63hTUdGdaw4",
    "outputId": "627bcfa6-5e47-48dc-a48a-f308ce440d0a"
   },
   "outputs": [
    {
     "name": "stdout",
     "output_type": "stream",
     "text": [
      "Number of classes  19    from 0 to 18\n"
     ]
    }
   ],
   "source": [
    "y_train = np.argmax(Y_train,axis=1)\n",
    "y_valid = np.argmax(Y_valid,axis=1)\n",
    "y_test = np.argmax(Y_test,axis=1)\n",
    "\n",
    "y_max = np.max(y_train) #0,...\n",
    "num_class_org = y_max + 1\n",
    "print('Number of classes ', num_class_org, '   from', 0, 'to', y_max)"
   ]
  },
  {
   "cell_type": "markdown",
   "metadata": {},
   "source": [
    "### Removing classes and fixing directories"
   ]
  },
  {
   "cell_type": "code",
   "execution_count": 9,
   "metadata": {
    "colab": {
     "autoexec": {
      "startup": false,
      "wait_interval": 0
     }
    },
    "colab_type": "code",
    "id": "8-cSFPSedHnX"
   },
   "outputs": [
    {
     "name": "stdout",
     "output_type": "stream",
     "text": [
      "Number of classes (after cutting) 18 to keep from org [0, 1, 2, 3, 4, 5, 6, 7, 9, 10, 11, 12, 13, 14, 15, 16, 17, 18]\n"
     ]
    }
   ],
   "source": [
    "if run_id == 14:\n",
    "    myto_idx = 8\n",
    "    keep_idx = list(np.linspace(start=0,stop=y_max,num=y_max+1, dtype='int32'))\n",
    "    keep_idx.remove(myto_idx)\n",
    "    keep_idx.remove(5)\n",
    "elif run_id == 6: ## For myto\n",
    "    myto_idx = 8\n",
    "    keep_idx = list(np.linspace(start=0,stop=y_max,num=y_max+1, dtype='int32'))\n",
    "    keep_idx.remove(myto_idx)\n",
    "elif run_id == 13: ##All but \n",
    "    keep_idx = list((5,6,8))\n",
    "elif run_id == 15: ##All but \n",
    "    keep_idx = list(range(0, 10))\n",
    "else:\n",
    "    print(\"!!! ------ wrong run id ---\")\n",
    "\n",
    "num_classes = len(keep_idx)\n",
    "print(\"Number of classes (after cutting)\" , num_classes, \"to keep from org\", keep_idx)"
   ]
  },
  {
   "cell_type": "code",
   "execution_count": 10,
   "metadata": {
    "colab": {
     "autoexec": {
      "startup": false,
      "wait_interval": 0
     },
     "base_uri": "https://localhost:8080/",
     "height": 34
    },
    "colab_type": "code",
    "executionInfo": {
     "elapsed": 465,
     "status": "ok",
     "timestamp": 1523541842927,
     "user": {
      "displayName": "Oliver Duerr",
      "photoUrl": "https://lh3.googleusercontent.com/a/default-user=s128",
      "userId": "115023668464573925389"
     },
     "user_tz": -120
    },
    "id": "69wZgXEHdU8V",
    "outputId": "16dceb57-dd10-414a-cd5a-b463088c666a"
   },
   "outputs": [],
   "source": [
    "all_to_limited = dict()\n",
    "limited_to_all = dict()\n",
    "c = 0\n",
    "for i in range(num_class_org):\n",
    "    all_to_limited[i] = c\n",
    "    limited_to_all[c] = i\n",
    "    if (keep_idx.count(i) > 0):\n",
    "      c += 1\n",
    "    else: #not in \n",
    "      all_to_limited[i] = -1\n",
    "      \n",
    "#all_to_limited\n",
    "#limited_to_all"
   ]
  },
  {
   "cell_type": "code",
   "execution_count": 11,
   "metadata": {
    "colab": {
     "autoexec": {
      "startup": false,
      "wait_interval": 0
     },
     "base_uri": "https://localhost:8080/",
     "height": 34
    },
    "colab_type": "code",
    "executionInfo": {
     "elapsed": 492,
     "status": "ok",
     "timestamp": 1523541847143,
     "user": {
      "displayName": "Oliver Duerr",
      "photoUrl": "https://lh3.googleusercontent.com/a/default-user=s128",
      "userId": "115023668464573925389"
     },
     "user_tz": -120
    },
    "id": "R4uA5-BDTgHV",
    "outputId": "9dcae46b-504b-4b36-c2dd-3932f099ce57"
   },
   "outputs": [
    {
     "data": {
      "text/plain": [
       "((20382, 64, 64, 2), (3849, 64, 64, 2), 18, 3780)"
      ]
     },
     "execution_count": 11,
     "metadata": {},
     "output_type": "execute_result"
    }
   ],
   "source": [
    "keep_training = [keep_idx.count(y) > 0 for y in y_train]\n",
    "X_train_keep = X_train[keep_training]\n",
    "y_train_keep = [all_to_limited[y] for y in y_train if keep_idx.count(y) > 0] \n",
    "\n",
    "keep_valid = [keep_idx.count(y) > 0 for y in y_valid]\n",
    "X_valid_keep = X_valid[keep_valid]\n",
    "y_valid_keep = [all_to_limited[y] for y in y_valid if keep_idx.count(y) > 0] \n",
    "\n",
    "# Translate to the new data, if -1 then not in the training set\n",
    "y_test_translated = [all_to_limited[y] for y in y_test]\n",
    "\n",
    "X_train_keep.shape, X_valid_keep.shape, len(np.unique(y_train_keep)),np.sum([1 for y  in y_test_translated if y > 0])"
   ]
  },
  {
   "cell_type": "code",
   "execution_count": 12,
   "metadata": {
    "colab": {
     "autoexec": {
      "startup": false,
      "wait_interval": 0
     },
     "base_uri": "https://localhost:8080/",
     "height": 141
    },
    "colab_type": "code",
    "executionInfo": {
     "elapsed": 664,
     "status": "ok",
     "timestamp": 1523541850052,
     "user": {
      "displayName": "Oliver Duerr",
      "photoUrl": "https://lh3.googleusercontent.com/a/default-user=s128",
      "userId": "115023668464573925389"
     },
     "user_tz": -120
    },
    "id": "UeKyLJOlTixE",
    "outputId": "207e6fd9-ef96-4e4c-bfa1-30fdd628af10"
   },
   "outputs": [
    {
     "data": {
      "text/plain": [
       "<matplotlib.image.AxesImage at 0x7f7c9e3424e0>"
      ]
     },
     "execution_count": 12,
     "metadata": {},
     "output_type": "execute_result"
    },
    {
     "data": {
      "image/png": "[encoded data removed]",
      "text/plain": [
       "<matplotlib.figure.Figure at 0x7f7ce1292550>"
      ]
     },
     "metadata": {},
     "output_type": "display_data"
    }
   ],
   "source": [
    "num = 20381\n",
    "plt.subplot(1,4,1)\n",
    "plt.imshow(X_train_keep[len(X_train_keep)-1,:,:,0])\n",
    "plt.subplot(1,4,2)\n",
    "plt.imshow(X_train_keep[len(X_train_keep)-1,:,:,1])"
   ]
  },
  {
   "cell_type": "markdown",
   "metadata": {
    "colab_type": "text",
    "id": "V4H7_9TvW-zr"
   },
   "source": [
    "## Loading of the model"
   ]
  },
  {
   "cell_type": "markdown",
   "metadata": {
    "colab_type": "text",
    "id": "rhznxXG5W8_W"
   },
   "source": []
  },
  {
   "cell_type": "code",
   "execution_count": 13,
   "metadata": {
    "colab": {
     "autoexec": {
      "startup": false,
      "wait_interval": 0
     },
     "base_uri": "https://localhost:8080/",
     "height": 85
    },
    "colab_type": "code",
    "executionInfo": {
     "elapsed": 4370,
     "status": "ok",
     "timestamp": 1523541639829,
     "user": {
      "displayName": "Oliver Duerr",
      "photoUrl": "https://lh3.googleusercontent.com/a/default-user=s128",
      "userId": "115023668464573925389"
     },
     "user_tz": -120
    },
    "id": "34wgOv3KTxHZ",
    "outputId": "0a418033-3ab3-443a-baf8-0a59090cdda6"
   },
   "outputs": [
    {
     "name": "stdout",
     "output_type": "stream",
     "text": [
      "_________________________________________________________________\n",
      "Layer (type)                 Output Shape              Param #   \n",
      "=================================================================\n",
      "conv2d_1 (Conv2D)            (None, 64, 64, 32)        608       \n",
      "_________________________________________________________________\n",
      "activation_1 (Activation)    (None, 64, 64, 32)        0         \n",
      "_________________________________________________________________\n",
      "dropout_1 (Dropout)          (None, 64, 64, 32)        0         \n",
      "_________________________________________________________________\n",
      "conv2d_2 (Conv2D)            (None, 64, 64, 32)        9248      \n",
      "_________________________________________________________________\n",
      "activation_2 (Activation)    (None, 64, 64, 32)        0         \n",
      "_________________________________________________________________\n",
      "max_pooling2d_1 (MaxPooling2 (None, 32, 32, 32)        0         \n",
      "_________________________________________________________________\n",
      "dropout_2 (Dropout)          (None, 32, 32, 32)        0         \n",
      "_________________________________________________________________\n",
      "conv2d_3 (Conv2D)            (None, 32, 32, 64)        18496     \n",
      "_________________________________________________________________\n",
      "activation_3 (Activation)    (None, 32, 32, 64)        0         \n",
      "_________________________________________________________________\n",
      "dropout_3 (Dropout)          (None, 32, 32, 64)        0         \n",
      "_________________________________________________________________\n",
      "conv2d_4 (Conv2D)            (None, 32, 32, 64)        36928     \n",
      "_________________________________________________________________\n",
      "activation_4 (Activation)    (None, 32, 32, 64)        0         \n",
      "_________________________________________________________________\n",
      "max_pooling2d_2 (MaxPooling2 (None, 16, 16, 64)        0         \n",
      "_________________________________________________________________\n",
      "flatten_1 (Flatten)          (None, 16384)             0         \n",
      "_________________________________________________________________\n",
      "dropout_4 (Dropout)          (None, 16384)             0         \n",
      "_________________________________________________________________\n",
      "dense_1 (Dense)              (None, 200)               3277000   \n",
      "_________________________________________________________________\n",
      "activation_5 (Activation)    (None, 200)               0         \n",
      "_________________________________________________________________\n",
      "dropout_5 (Dropout)          (None, 200)               0         \n",
      "_________________________________________________________________\n",
      "dense_2 (Dense)              (None, 18)                3618      \n",
      "_________________________________________________________________\n",
      "activation_6 (Activation)    (None, 18)                0         \n",
      "=================================================================\n",
      "Total params: 3,345,898\n",
      "Trainable params: 3,345,898\n",
      "Non-trainable params: 0\n",
      "_________________________________________________________________\n",
      "None\n"
     ]
    },
    {
     "data": {
      "text/plain": [
       "((None, 64, 64, 2), (None, 18))"
      ]
     },
     "execution_count": 13,
     "metadata": {},
     "output_type": "execute_result"
    }
   ],
   "source": [
    "tf.reset_default_graph()\n",
    "sess = tf.Session()\n",
    "K.set_session(sess)\n",
    "if False: #In the google  cloud\n",
    "    # Model only with Mito\n",
    "    #!curl -kL https://www.dropbox.com/s/cta6woqwg4ig1hf/final.keras_006.model?dl=1 --output final.keras.model\n",
    "\n",
    "    # Model learned from the classes: \"Endo, Er, Mito \"\n",
    "    !curl -kL https://www.dropbox.com/s/1eqkz20mxngxr7f/final.keras.013.model?dl=1 --output final.keras.model\n",
    "    \n",
    "    # Load via browser\n",
    "    # from google.colab import files\n",
    "\n",
    "    # uploaded = files.upload()\n",
    "\n",
    "    # for fn in uploaded.keys():\n",
    "    #   print('User uploaded file \"{name}\" with length {length} bytes'.format(\n",
    "    #       name=fn, length=len(uploaded[fn])))\n",
    " \n",
    "    model = load_model('final.keras.model')\n",
    "else:\n",
    "    if run_id == 14:\n",
    "        model = load_model('results_bayes/014-chong_no_batch_only_EndoErMito/final.keras.model')\n",
    "    elif run_id == 13:\n",
    "        model = load_model('results_bayes/013-chong_no_batch_only_EndoErMito/final.keras.model')\n",
    "    elif run_id == 6:\n",
    "        model = load_model('results_bayes/006-kraus1_full_no_batch_no_myto/final.keras.model')\n",
    "    elif run_id == 15:\n",
    "        model = load_model('results_bayes/015-chong_no_batch_only_EndoErMito/final.keras.model')\n",
    "print(model.summary())\n",
    "model.input_shape, model.output_shape"
   ]
  },
  {
   "cell_type": "markdown",
   "metadata": {},
   "source": [
    "## Preditions no mc-dropout"
   ]
  },
  {
   "cell_type": "code",
   "execution_count": 14,
   "metadata": {},
   "outputs": [],
   "source": [
    "import pandas\n",
    "preds_test_classical = model.predict_proba(X_test)\n",
    "\n",
    "df = pandas.DataFrame(\n",
    "        columns=['cell_id','true_label','pred_label','confidence', 'method', 'mc_dropout', 'run_id'])\n",
    "\n",
    "mc_dropout = False\n",
    "run_length = len(X_test)\n",
    "\n",
    "for j in range(run_length):\n",
    "    k = np.argmax(preds_test_classical[j])\n",
    "    p_k = np.max(preds_test_classical[j])\n",
    "    df.loc[j] = [j, y_test_translated[j],k, p_k, 'max_p', mc_dropout,run_id]\n",
    "\n",
    "df.to_csv(\"{}_nomc.csv\".format(run_id))"
   ]
  },
  {
   "cell_type": "code",
   "execution_count": 15,
   "metadata": {},
   "outputs": [
    {
     "name": "stdout",
     "output_type": "stream",
     "text": [
      "0.8033658104517272\n"
     ]
    },
    {
     "data": {
      "text/html": [
       "<div>\n",
       "<style scoped>\n",
       "    .dataframe tbody tr th:only-of-type {\n",
       "        vertical-align: middle;\n",
       "    }\n",
       "\n",
       "    .dataframe tbody tr th {\n",
       "        vertical-align: top;\n",
       "    }\n",
       "\n",
       "    .dataframe thead th {\n",
       "        text-align: right;\n",
       "    }\n",
       "</style>\n",
       "<table border=\"1\" class=\"dataframe\">\n",
       "  <thead>\n",
       "    <tr style=\"text-align: right;\">\n",
       "      <th></th>\n",
       "      <th>cell_id</th>\n",
       "      <th>true_label</th>\n",
       "      <th>pred_label</th>\n",
       "      <th>confidence</th>\n",
       "      <th>method</th>\n",
       "      <th>mc_dropout</th>\n",
       "      <th>run_id</th>\n",
       "    </tr>\n",
       "  </thead>\n",
       "  <tbody>\n",
       "    <tr>\n",
       "      <th>0</th>\n",
       "      <td>0</td>\n",
       "      <td>6</td>\n",
       "      <td>6</td>\n",
       "      <td>0.720276</td>\n",
       "      <td>max_p</td>\n",
       "      <td>False</td>\n",
       "      <td>6</td>\n",
       "    </tr>\n",
       "    <tr>\n",
       "      <th>1</th>\n",
       "      <td>1</td>\n",
       "      <td>15</td>\n",
       "      <td>15</td>\n",
       "      <td>0.999994</td>\n",
       "      <td>max_p</td>\n",
       "      <td>False</td>\n",
       "      <td>6</td>\n",
       "    </tr>\n",
       "    <tr>\n",
       "      <th>2</th>\n",
       "      <td>2</td>\n",
       "      <td>8</td>\n",
       "      <td>8</td>\n",
       "      <td>0.999975</td>\n",
       "      <td>max_p</td>\n",
       "      <td>False</td>\n",
       "      <td>6</td>\n",
       "    </tr>\n",
       "    <tr>\n",
       "      <th>3</th>\n",
       "      <td>3</td>\n",
       "      <td>1</td>\n",
       "      <td>1</td>\n",
       "      <td>0.999999</td>\n",
       "      <td>max_p</td>\n",
       "      <td>False</td>\n",
       "      <td>6</td>\n",
       "    </tr>\n",
       "    <tr>\n",
       "      <th>4</th>\n",
       "      <td>4</td>\n",
       "      <td>14</td>\n",
       "      <td>14</td>\n",
       "      <td>0.999999</td>\n",
       "      <td>max_p</td>\n",
       "      <td>False</td>\n",
       "      <td>6</td>\n",
       "    </tr>\n",
       "  </tbody>\n",
       "</table>\n",
       "</div>"
      ],
      "text/plain": [
       "  cell_id true_label pred_label  confidence method mc_dropout run_id\n",
       "0       0          6          6    0.720276  max_p      False      6\n",
       "1       1         15         15    0.999994  max_p      False      6\n",
       "2       2          8          8    0.999975  max_p      False      6\n",
       "3       3          1          1    0.999999  max_p      False      6\n",
       "4       4         14         14    0.999999  max_p      False      6"
      ]
     },
     "execution_count": 15,
     "metadata": {},
     "output_type": "execute_result"
    }
   ],
   "source": [
    "print(np.average(df['true_label'] == df['pred_label']))\n",
    "df[0:5]"
   ]
  },
  {
   "cell_type": "markdown",
   "metadata": {},
   "source": [
    "#### All probabilities no dropout"
   ]
  },
  {
   "cell_type": "code",
   "execution_count": 30,
   "metadata": {},
   "outputs": [],
   "source": [
    "pks = model.predict_proba(X_test)\n",
    "text_header = [\"p_nomc_test{}\".format(i+1) for i in range(0,pks.shape[1])]\n",
    "np.savetxt(\"{}_probs_no_mc.csv\".format(run_id), pks, fmt='%5s',delimiter=\",\")"
   ]
  },
  {
   "cell_type": "markdown",
   "metadata": {
    "colab_type": "text",
    "id": "qvTt8RyLbasc"
   },
   "source": [
    "## Activating the dropout and testing it"
   ]
  },
  {
   "cell_type": "code",
   "execution_count": 16,
   "metadata": {
    "colab": {
     "autoexec": {
      "startup": false,
      "wait_interval": 0
     }
    },
    "colab_type": "code",
    "id": "0dkQAnXVUSeR"
   },
   "outputs": [],
   "source": [
    "def make_dropout_batch(x):\n",
    "    size = 100\n",
    "    return tf.tile(x,[size,1,1,1])"
   ]
  },
  {
   "cell_type": "code",
   "execution_count": 17,
   "metadata": {
    "colab": {
     "autoexec": {
      "startup": false,
      "wait_interval": 0
     }
    },
    "colab_type": "code",
    "id": "-fGufr2VZ9Sb"
   },
   "outputs": [],
   "source": [
    "inputs = Input(shape=(64,64,2))\n",
    "x0 = Lambda(make_dropout_batch, name='replication')(inputs)\n",
    "for layer in model.layers:\n",
    "     #print(layer.name)\n",
    "     x0 = layer(x0)\n",
    "model2 = Model(inputs, x0)"
   ]
  },
  {
   "cell_type": "code",
   "execution_count": 18,
   "metadata": {
    "colab": {
     "autoexec": {
      "startup": false,
      "wait_interval": 0
     },
     "base_uri": "https://localhost:8080/",
     "height": 34
    },
    "colab_type": "code",
    "executionInfo": {
     "elapsed": 479,
     "status": "ok",
     "timestamp": 1523541863890,
     "user": {
      "displayName": "Oliver Duerr",
      "photoUrl": "https://lh3.googleusercontent.com/a/default-user=s128",
      "userId": "115023668464573925389"
     },
     "user_tz": -120
    },
    "id": "-KTQTcU7cGDD",
    "outputId": "10063761-c5a8-4b3b-ff42-0b0590a32176"
   },
   "outputs": [
    {
     "data": {
      "text/plain": [
       "0.22356957"
      ]
     },
     "execution_count": 18,
     "metadata": {},
     "output_type": "execute_result"
    }
   ],
   "source": [
    "np.std(model.predict_proba(X_train_keep[0:200])) #Correct keras call"
   ]
  },
  {
   "cell_type": "code",
   "execution_count": 19,
   "metadata": {
    "colab": {
     "autoexec": {
      "startup": false,
      "wait_interval": 0
     }
    },
    "colab_type": "code",
    "id": "oOSN6PYiaIEb"
   },
   "outputs": [],
   "source": [
    "lp = sess.graph.get_tensor_by_name('dropout_1/keras_learning_phase:0')"
   ]
  },
  {
   "cell_type": "code",
   "execution_count": 20,
   "metadata": {
    "colab": {
     "autoexec": {
      "startup": false,
      "wait_interval": 0
     },
     "base_uri": "https://localhost:8080/",
     "height": 34
    },
    "colab_type": "code",
    "executionInfo": {
     "elapsed": 493,
     "status": "ok",
     "timestamp": 1523541868257,
     "user": {
      "displayName": "Oliver Duerr",
      "photoUrl": "https://lh3.googleusercontent.com/a/default-user=s128",
      "userId": "115023668464573925389"
     },
     "user_tz": -120
    },
    "id": "ZMD0TrbzaQvc",
    "outputId": "f22f5a1c-7b38-491f-9cda-70bf45710735"
   },
   "outputs": [
    {
     "data": {
      "text/plain": [
       "(0.22356957, 0.975)"
      ]
     },
     "execution_count": 20,
     "metadata": {},
     "output_type": "execute_result"
    }
   ],
   "source": [
    "res = sess.run(model.output, {model.input:X_train_keep[0:200],lp:0}) # No Dropout\n",
    "np.std(res), np.mean(np.argmax(res,axis=1) == y_train_keep[0:200])#Same result"
   ]
  },
  {
   "cell_type": "code",
   "execution_count": 21,
   "metadata": {
    "colab": {
     "autoexec": {
      "startup": false,
      "wait_interval": 0
     },
     "base_uri": "https://localhost:8080/",
     "height": 102
    },
    "colab_type": "code",
    "executionInfo": {
     "elapsed": 862,
     "status": "ok",
     "timestamp": 1523541870443,
     "user": {
      "displayName": "Oliver Duerr",
      "photoUrl": "https://lh3.googleusercontent.com/a/default-user=s128",
      "userId": "115023668464573925389"
     },
     "user_tz": -120
    },
    "id": "X48_mjbOaV_1",
    "outputId": "a8b9db01-c506-4b5a-8137-c5bc08d7f016"
   },
   "outputs": [
    {
     "name": "stdout",
     "output_type": "stream",
     "text": [
      "0.955\n",
      "0.97\n",
      "0.96\n",
      "0.97\n",
      "0.96\n"
     ]
    }
   ],
   "source": [
    "# Doing mc-dropout but with a single run ==> preformance is degenerated\n",
    "for _ in range(5):\n",
    "    res = sess.run(model.output, {model.input:X_train_keep[0:200],lp:1}) # Dropout at test time\n",
    "    print(np.mean(np.argmax(res,axis=1) == y_train_keep[0:200]))"
   ]
  },
  {
   "cell_type": "code",
   "execution_count": 22,
   "metadata": {
    "colab": {
     "autoexec": {
      "startup": false,
      "wait_interval": 0
     },
     "base_uri": "https://localhost:8080/",
     "height": 34
    },
    "colab_type": "code",
    "executionInfo": {
     "elapsed": 7828,
     "status": "ok",
     "timestamp": 1523541879395,
     "user": {
      "displayName": "Oliver Duerr",
      "photoUrl": "https://lh3.googleusercontent.com/a/default-user=s128",
      "userId": "115023668464573925389"
     },
     "user_tz": -120
    },
    "id": "yLMAVvn9dMdv",
    "outputId": "fa627ea5-acdf-46ef-9c0c-e240d4a3c975"
   },
   "outputs": [
    {
     "data": {
      "text/plain": [
       "0.995"
      ]
     },
     "execution_count": 22,
     "metadata": {},
     "output_type": "execute_result"
    }
   ],
   "source": [
    "# model 2 does many dropout runs \n",
    "acc = 0\n",
    "for i in range(200):\n",
    "  res = sess.run(model2.output, {model2.input:X_train_keep[i:i+1],lp:1})\n",
    "  acc += np.argmax(np.mean(res,axis=0)) == y_train_keep[i:i+1][0]\n",
    "acc / 200"
   ]
  },
  {
   "cell_type": "markdown",
   "metadata": {},
   "source": [
    "## Doing the dropout runs"
   ]
  },
  {
   "cell_type": "code",
   "execution_count": 23,
   "metadata": {
    "colab": {
     "autoexec": {
      "startup": false,
      "wait_interval": 0
     },
     "base_uri": "https://localhost:8080/",
     "height": 204
    },
    "colab_type": "code",
    "executionInfo": {
     "elapsed": 165793,
     "status": "ok",
     "timestamp": 1523542137017,
     "user": {
      "displayName": "Oliver Duerr",
      "photoUrl": "https://lh3.googleusercontent.com/a/default-user=s128",
      "userId": "115023668464573925389"
     },
     "user_tz": -120
    },
    "id": "-fC4gbO4ZJdR",
    "outputId": "26a1b64a-1e27-4ca1-d7a2-962d7975dd9d"
   },
   "outputs": [
    {
     "name": "stdout",
     "output_type": "stream",
     "text": [
      "0  /  4516\n",
      "1  /  4516\n",
      "100  /  4516\n",
      "200  /  4516\n",
      "300  /  4516\n",
      "400  /  4516\n",
      "500  /  4516\n",
      "600  /  4516\n",
      "700  /  4516\n",
      "800  /  4516\n",
      "900  /  4516\n",
      "1000  /  4516\n",
      "1100  /  4516\n",
      "1200  /  4516\n",
      "1300  /  4516\n",
      "1400  /  4516\n",
      "1500  /  4516\n",
      "1600  /  4516\n",
      "1700  /  4516\n",
      "1800  /  4516\n",
      "1900  /  4516\n",
      "2000  /  4516\n",
      "2100  /  4516\n",
      "2200  /  4516\n",
      "2300  /  4516\n",
      "2400  /  4516\n",
      "2500  /  4516\n",
      "2600  /  4516\n",
      "2700  /  4516\n",
      "2800  /  4516\n",
      "2900  /  4516\n",
      "3000  /  4516\n",
      "3100  /  4516\n",
      "3200  /  4516\n",
      "3300  /  4516\n",
      "3400  /  4516\n",
      "3500  /  4516\n",
      "3600  /  4516\n",
      "3700  /  4516\n",
      "3800  /  4516\n",
      "3900  /  4516\n",
      "4000  /  4516\n",
      "4100  /  4516\n",
      "4200  /  4516\n",
      "4300  /  4516\n",
      "4400  /  4516\n",
      "4500  /  4516\n"
     ]
    }
   ],
   "source": [
    "df = pandas.DataFrame(\n",
    "        columns=['cell_id','true_label','pred_label','confidence', 'method', 'mc_dropout', 'run_id'])\n",
    "\n",
    "mc_dropout = True\n",
    "for i in range(len(X_test)):\n",
    "    res = sess.run(model2.output, feed_dict={model2.input:X_test[i:i+1], lp:1}) #On image many MC-runs\n",
    "    pk = np.mean(res, axis=0)\n",
    "    k = np.argmax(pk)\n",
    "    sigma = np.sqrt(np.sum(np.var(res, axis=0)))\n",
    "    entropy = -np.sum(pk * np.log2(pk + 1E-14)) #Numerical Stability\n",
    "\n",
    "    classes = np.argmax(res,axis=1)\n",
    "    counts = np.bincount(classes)\n",
    "    k_counts = np.argmax(counts)\n",
    "    rel_freq = counts[k_counts]/len(classes)\n",
    "    # change: statt pk[k] nun pk, da prob von allen Klassen gebraucht werden\n",
    "    # bei indices immer + (len(pk) -1)\n",
    "    df.loc[4*i + (len(pk) -1) ] = [i, y_test_translated[i],k, pk, 'mean_p', mc_dropout,run_id]\n",
    "    df.loc[4*i + (len(pk) -1) + 1] = [i, y_test_translated[i],k, sigma, 'mean_sigma', mc_dropout,run_id]\n",
    "    df.loc[4*i + (len(pk) -1) + 2] = [i, y_test_translated[i],k, entropy, 'mean_entropy', mc_dropout,run_id]\n",
    "    df.loc[4*i + (len(pk) -1) + 3] = [i, y_test_translated[i],k_counts, rel_freq, 'counts_relfreq', mc_dropout,run_id]\n",
    "\n",
    "    if (i < 2 or i % 100 == 0):\n",
    "        print(i,' / ', run_length)\n",
    "\n",
    "df.to_csv(\"{}_mc_all_classes.csv\".format(run_id))"
   ]
  },
  {
   "cell_type": "code",
   "execution_count": null,
   "metadata": {
    "colab": {
     "autoexec": {
      "startup": false,
      "wait_interval": 0
     }
    },
    "colab_type": "code",
    "id": "ioB6Tdscnm3O"
   },
   "outputs": [],
   "source": [
    "# from google.colab import files\n",
    "# files.download('EndoErMito_mcdropout_013.csv')"
   ]
  },
  {
   "cell_type": "code",
   "execution_count": null,
   "metadata": {
    "colab": {
     "autoexec": {
      "startup": false,
      "wait_interval": 0
     }
    },
    "colab_type": "code",
    "id": "Bi0wKxvXgj3J"
   },
   "outputs": [],
   "source": []
  }
 ],
 "metadata": {
  "accelerator": "GPU",
  "colab": {
   "collapsed_sections": [],
   "default_view": {},
   "name": "testing_on_selected.ipynb",
   "provenance": [],
   "toc_visible": true,
   "version": "0.3.2",
   "views": {}
  },
  "kernelspec": {
   "display_name": "Python 3",
   "language": "python",
   "name": "python3"
  },
  "language_info": {
   "codemirror_mode": {
    "name": "ipython",
    "version": 3
   },
   "file_extension": ".py",
   "mimetype": "text/x-python",
   "name": "python",
   "nbconvert_exporter": "python",
   "pygments_lexer": "ipython3",
   "version": "3.5.2"
  }
 },
 "nbformat": 4,
 "nbformat_minor": 2
}
